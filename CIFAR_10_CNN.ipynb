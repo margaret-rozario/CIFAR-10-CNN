{
  "nbformat": 4,
  "nbformat_minor": 0,
  "metadata": {
    "colab": {
      "provenance": []
    },
    "kernelspec": {
      "name": "python3",
      "display_name": "Python 3"
    },
    "language_info": {
      "name": "python"
    }
  },
  "cells": [
    {
      "cell_type": "markdown",
      "source": [
        "Importing Libraries"
      ],
      "metadata": {
        "id": "d01-J86MrZ8y"
      }
    },
    {
      "cell_type": "code",
      "execution_count": 68,
      "metadata": {
        "id": "T2EVMqFLgKTC"
      },
      "outputs": [],
      "source": [
        "import tensorflow as tf\n",
        "from tensorflow.keras import datasets,layers,models\n",
        "import matplotlib.pyplot as plt\n",
        "from sklearn.metrics import confusion_matrix , classification_report\n",
        "import numpy as np"
      ]
    },
    {
      "cell_type": "markdown",
      "source": [
        "Loading Dataset"
      ],
      "metadata": {
        "id": "fSpCInvTrfcr"
      }
    },
    {
      "cell_type": "code",
      "source": [
        "(X_train, y_train), (X_test,y_test) =datasets.cifar10.load_data()\n",
        "X_train.shape"
      ],
      "metadata": {
        "colab": {
          "base_uri": "https://localhost:8080/"
        },
        "id": "cAlar1udgx0W",
        "outputId": "48509a77-87c2-40e7-b3fa-6dbec92ddeb7"
      },
      "execution_count": 69,
      "outputs": [
        {
          "output_type": "execute_result",
          "data": {
            "text/plain": [
              "(50000, 32, 32, 3)"
            ]
          },
          "metadata": {},
          "execution_count": 69
        }
      ]
    },
    {
      "cell_type": "code",
      "source": [
        "X_test.shape"
      ],
      "metadata": {
        "colab": {
          "base_uri": "https://localhost:8080/"
        },
        "id": "3uLXBxSigx3N",
        "outputId": "97a366fb-d4be-43a0-db28-4c76519d1d8e"
      },
      "execution_count": 70,
      "outputs": [
        {
          "output_type": "execute_result",
          "data": {
            "text/plain": [
              "(10000, 32, 32, 3)"
            ]
          },
          "metadata": {},
          "execution_count": 70
        }
      ]
    },
    {
      "cell_type": "code",
      "source": [
        "y_train[:5]"
      ],
      "metadata": {
        "colab": {
          "base_uri": "https://localhost:8080/"
        },
        "id": "aQE12sGajMcn",
        "outputId": "1697ff96-5a3d-4ee9-8b10-22b6e47b4a35"
      },
      "execution_count": 71,
      "outputs": [
        {
          "output_type": "execute_result",
          "data": {
            "text/plain": [
              "array([[6],\n",
              "       [9],\n",
              "       [9],\n",
              "       [4],\n",
              "       [1]], dtype=uint8)"
            ]
          },
          "metadata": {},
          "execution_count": 71
        }
      ]
    },
    {
      "cell_type": "code",
      "source": [
        "y_train = y_train.reshape(-1,)\n",
        "y_train[:5]"
      ],
      "metadata": {
        "colab": {
          "base_uri": "https://localhost:8080/"
        },
        "id": "5dxZVnNzkJj8",
        "outputId": "6fbc16ef-07e5-4af0-a874-071d16396128"
      },
      "execution_count": 72,
      "outputs": [
        {
          "output_type": "execute_result",
          "data": {
            "text/plain": [
              "array([6, 9, 9, 4, 1], dtype=uint8)"
            ]
          },
          "metadata": {},
          "execution_count": 72
        }
      ]
    },
    {
      "cell_type": "code",
      "source": [
        "classes = [\"airplane\",\"automobile\",\"bird\",\"cat\",\"deer\",\"dog\",\"frog\",\"horse\",\"ship\",\"truck\"]"
      ],
      "metadata": {
        "id": "QbmZLv9qi-QM"
      },
      "execution_count": 73,
      "outputs": []
    },
    {
      "cell_type": "code",
      "source": [
        "classes[9]"
      ],
      "metadata": {
        "colab": {
          "base_uri": "https://localhost:8080/",
          "height": 40
        },
        "id": "GiukOOaYkPp3",
        "outputId": "2b41d45b-f119-4a38-ead6-04719bc00659"
      },
      "execution_count": 74,
      "outputs": [
        {
          "output_type": "execute_result",
          "data": {
            "text/plain": [
              "'truck'"
            ],
            "application/vnd.google.colaboratory.intrinsic+json": {
              "type": "string"
            }
          },
          "metadata": {},
          "execution_count": 74
        }
      ]
    },
    {
      "cell_type": "markdown",
      "source": [
        "Plotting images for vizualisation"
      ],
      "metadata": {
        "id": "97fHxYmprn6G"
      }
    },
    {
      "cell_type": "code",
      "source": [
        "def plot_sample(X, y, index):\n",
        "    plt.figure(figsize = (15,2))\n",
        "    plt.imshow(X[index])\n",
        "    plt.xlabel(classes[y[index]])"
      ],
      "metadata": {
        "id": "hV5qwWMtjD-x"
      },
      "execution_count": 75,
      "outputs": []
    },
    {
      "cell_type": "code",
      "source": [
        "plot_sample(X_train, y_train, 0)"
      ],
      "metadata": {
        "colab": {
          "base_uri": "https://localhost:8080/",
          "height": 173
        },
        "id": "i4F9MUMEkh2o",
        "outputId": "7ee192ef-aaf2-4b72-f24a-d1ea18f9e202"
      },
      "execution_count": 76,
      "outputs": [
        {
          "output_type": "display_data",
          "data": {
            "text/plain": [
              "<Figure size 1080x144 with 1 Axes>"
            ],
            "image/png": "[encoded data removed]"
          },
          "metadata": {
            "needs_background": "light"
          }
        }
      ]
    },
    {
      "cell_type": "code",
      "source": [
        "plot_sample(X_train, y_train, 5)"
      ],
      "metadata": {
        "colab": {
          "base_uri": "https://localhost:8080/",
          "height": 173
        },
        "id": "PVZ88ZTBkh5k",
        "outputId": "62933df2-719c-4ef9-9ccc-73f92b06a9e7"
      },
      "execution_count": 77,
      "outputs": [
        {
          "output_type": "display_data",
          "data": {
            "text/plain": [
              "<Figure size 1080x144 with 1 Axes>"
            ],
            "image/png": "[encoded data removed]"
          },
          "metadata": {
            "needs_background": "light"
          }
        }
      ]
    },
    {
      "cell_type": "markdown",
      "source": [
        "Normalizing the training dataset"
      ],
      "metadata": {
        "id": "qMDxaIEWrygO"
      }
    },
    {
      "cell_type": "code",
      "source": [
        "X_train = X_train / 255.0\n",
        "X_test = X_test / 255.0"
      ],
      "metadata": {
        "id": "ISUN1a8ylIis"
      },
      "execution_count": 78,
      "outputs": []
    },
    {
      "cell_type": "markdown",
      "source": [
        "Convolutional Neural Network (CNN) to train images"
      ],
      "metadata": {
        "id": "Wc7u1DSBr70S"
      }
    },
    {
      "cell_type": "code",
      "source": [
        "cnn = models.Sequential([\n",
        "    \n",
        "    # CNN\n",
        "    layers.Conv2D(filters=32, kernel_size=(3, 3), activation='relu', input_shape=(32, 32, 3)),\n",
        "    layers.MaxPooling2D((2, 2)),\n",
        "    \n",
        "    layers.Conv2D(filters=64, kernel_size=(3, 3), activation='relu'),\n",
        "    layers.MaxPooling2D((2, 2)),\n",
        "    \n",
        "    # Dense\n",
        "    layers.Flatten(),\n",
        "    layers.Dense(64, activation='relu'),\n",
        "    layers.Dense(10, activation='softmax')\n",
        "])"
      ],
      "metadata": {
        "id": "l8m033FhlIl5"
      },
      "execution_count": 79,
      "outputs": []
    },
    {
      "cell_type": "code",
      "source": [
        "cnn.compile(optimizer='adam',\n",
        "              loss='sparse_categorical_crossentropy',\n",
        "              metrics=['accuracy'])"
      ],
      "metadata": {
        "id": "ljmswPjilIon"
      },
      "execution_count": 80,
      "outputs": []
    },
    {
      "cell_type": "code",
      "source": [
        "cnn.fit(X_train, y_train, epochs=15)"
      ],
      "metadata": {
        "colab": {
          "base_uri": "https://localhost:8080/"
        },
        "id": "iv4yTU2wlIqz",
        "outputId": "27068b7d-3d30-4541-db85-2fa4788417b8"
      },
      "execution_count": 81,
      "outputs": [
        {
          "output_type": "stream",
          "name": "stdout",
          "text": [
            "Epoch 1/15\n",
            "1563/1563 [==============================] - 85s 54ms/step - loss: 1.4270 - accuracy: 0.4862\n",
            "Epoch 2/15\n",
            "1563/1563 [==============================] - 86s 55ms/step - loss: 1.0798 - accuracy: 0.6220\n",
            "Epoch 3/15\n",
            "1563/1563 [==============================] - 87s 56ms/step - loss: 0.9536 - accuracy: 0.6691\n",
            "Epoch 4/15\n",
            "1563/1563 [==============================] - 87s 56ms/step - loss: 0.8696 - accuracy: 0.6987\n",
            "Epoch 5/15\n",
            "1563/1563 [==============================] - 86s 55ms/step - loss: 0.8116 - accuracy: 0.7191\n",
            "Epoch 6/15\n",
            "1563/1563 [==============================] - 84s 53ms/step - loss: 0.7583 - accuracy: 0.7362\n",
            "Epoch 7/15\n",
            "1563/1563 [==============================] - 75s 48ms/step - loss: 0.7107 - accuracy: 0.7536\n",
            "Epoch 8/15\n",
            "1563/1563 [==============================] - 77s 49ms/step - loss: 0.6702 - accuracy: 0.7670\n",
            "Epoch 9/15\n",
            "1563/1563 [==============================] - 76s 48ms/step - loss: 0.6276 - accuracy: 0.7808\n",
            "Epoch 10/15\n",
            "1563/1563 [==============================] - 77s 49ms/step - loss: 0.5881 - accuracy: 0.7939\n",
            "Epoch 11/15\n",
            "1563/1563 [==============================] - 78s 50ms/step - loss: 0.5559 - accuracy: 0.8042\n",
            "Epoch 12/15\n",
            "1563/1563 [==============================] - 76s 49ms/step - loss: 0.5160 - accuracy: 0.8206\n",
            "Epoch 13/15\n",
            "1563/1563 [==============================] - 77s 50ms/step - loss: 0.4805 - accuracy: 0.8337\n",
            "Epoch 14/15\n",
            "1563/1563 [==============================] - 77s 49ms/step - loss: 0.4517 - accuracy: 0.8402\n",
            "Epoch 15/15\n",
            "1563/1563 [==============================] - 78s 50ms/step - loss: 0.4188 - accuracy: 0.8520\n"
          ]
        },
        {
          "output_type": "execute_result",
          "data": {
            "text/plain": [
              "<keras.callbacks.History at 0x7fd708329e10>"
            ]
          },
          "metadata": {},
          "execution_count": 81
        }
      ]
    },
    {
      "cell_type": "markdown",
      "source": [],
      "metadata": {
        "id": "f4UAXGDXrY4x"
      }
    },
    {
      "cell_type": "code",
      "source": [
        "cnn.evaluate(X_test,y_test)"
      ],
      "metadata": {
        "colab": {
          "base_uri": "https://localhost:8080/"
        },
        "id": "i8vCQavYlItc",
        "outputId": "6fc2071f-3681-4f30-81e0-630087ded99f"
      },
      "execution_count": 82,
      "outputs": [
        {
          "output_type": "stream",
          "name": "stdout",
          "text": [
            "313/313 [==============================] - 5s 15ms/step - loss: 1.0414 - accuracy: 0.6948\n"
          ]
        },
        {
          "output_type": "execute_result",
          "data": {
            "text/plain": [
              "[1.0414040088653564, 0.6948000192642212]"
            ]
          },
          "metadata": {},
          "execution_count": 82
        }
      ]
    },
    {
      "cell_type": "code",
      "source": [
        "y_pred = cnn.predict(X_test)\n",
        "y_pred[:5]"
      ],
      "metadata": {
        "colab": {
          "base_uri": "https://localhost:8080/"
        },
        "id": "Ool6vGTBoZgO",
        "outputId": "fd729166-86f3-47fa-a7e4-c06f1716e14c"
      },
      "execution_count": 83,
      "outputs": [
        {
          "output_type": "stream",
          "name": "stdout",
          "text": [
            "313/313 [==============================] - 5s 14ms/step\n"
          ]
        },
        {
          "output_type": "execute_result",
          "data": {
            "text/plain": [
              "array([[7.5606181e-04, 1.6723392e-05, 2.6542265e-03, 7.5875354e-01,\n",
              "        1.6873228e-05, 2.3313151e-01, 4.6184813e-03, 8.0676618e-06,\n",
              "        4.0308547e-05, 4.1018293e-06],\n",
              "       [8.8668162e-07, 2.3485499e-03, 8.6625061e-11, 3.1559350e-10,\n",
              "        1.0562964e-12, 7.1872320e-13, 5.3861282e-10, 1.1847546e-16,\n",
              "        9.9764884e-01, 1.7225809e-06],\n",
              "       [3.8983978e-02, 4.5612264e-01, 3.5800671e-04, 1.0099861e-02,\n",
              "        9.8453157e-02, 3.1278803e-04, 3.6687916e-04, 4.0125852e-03,\n",
              "        3.5445288e-01, 3.6837041e-02],\n",
              "       [9.9892312e-01, 3.9911010e-05, 4.4099630e-05, 3.1598729e-06,\n",
              "        8.4234222e-07, 8.5489029e-09, 3.4396317e-07, 2.0623909e-07,\n",
              "        8.5920637e-04, 1.2912868e-04],\n",
              "       [2.2969791e-09, 4.8677583e-07, 2.5026491e-04, 1.9755971e-03,\n",
              "        7.6268753e-03, 1.1165588e-04, 9.9002427e-01, 4.4903519e-08,\n",
              "        1.0684626e-05, 2.0583433e-09]], dtype=float32)"
            ]
          },
          "metadata": {},
          "execution_count": 83
        }
      ]
    },
    {
      "cell_type": "markdown",
      "source": [
        "Classification Report"
      ],
      "metadata": {
        "id": "tIoI-zthsi-T"
      }
    },
    {
      "cell_type": "code",
      "source": [
        "y_pred = cnn.predict(X_test)\n",
        "y_pred_classes = [np.argmax(element) for element in y_pred]\n",
        "\n",
        "print(\"Classification Report: \\n\", classification_report(y_test, y_pred_classes))"
      ],
      "metadata": {
        "colab": {
          "base_uri": "https://localhost:8080/"
        },
        "id": "ueQKuDjToZjM",
        "outputId": "8f1d26c8-0424-4b69-beb3-de4c1baf5c6d"
      },
      "execution_count": 84,
      "outputs": [
        {
          "output_type": "stream",
          "name": "stdout",
          "text": [
            "313/313 [==============================] - 6s 21ms/step\n",
            "Classification Report: \n",
            "               precision    recall  f1-score   support\n",
            "\n",
            "           0       0.78      0.74      0.76      1000\n",
            "           1       0.83      0.78      0.81      1000\n",
            "           2       0.61      0.58      0.60      1000\n",
            "           3       0.54      0.46      0.50      1000\n",
            "           4       0.60      0.67      0.63      1000\n",
            "           5       0.54      0.68      0.60      1000\n",
            "           6       0.77      0.72      0.74      1000\n",
            "           7       0.72      0.75      0.73      1000\n",
            "           8       0.81      0.80      0.81      1000\n",
            "           9       0.79      0.77      0.78      1000\n",
            "\n",
            "    accuracy                           0.69     10000\n",
            "   macro avg       0.70      0.69      0.70     10000\n",
            "weighted avg       0.70      0.69      0.70     10000\n",
            "\n"
          ]
        }
      ]
    }
  ]
}